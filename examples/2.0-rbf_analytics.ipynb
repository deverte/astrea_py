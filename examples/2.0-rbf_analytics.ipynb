{
 "cells": [
  {
   "cell_type": "code",
   "execution_count": 1,
   "metadata": {},
   "outputs": [],
   "source": [
    "import sympy as sy\n",
    "from sympy.physics.units import convert_to\n",
    "from sympy.physics.units import centimeter\n",
    "from sympy.physics.units import dalton\n",
    "from sympy.physics.units import electronvolt\n",
    "from sympy.physics.units import farad\n",
    "from sympy.physics.units import gram\n",
    "from sympy.physics.units import kelvin\n",
    "from sympy.physics.units import meter\n",
    "from sympy.physics.units import second\n",
    "from sympy.physics.units import watt"
   ]
  },
  {
   "cell_type": "code",
   "execution_count": 2,
   "metadata": {},
   "outputs": [],
   "source": [
    "alpha = sy.Symbol('\\\\alpha')\n",
    "c = sy.Symbol('c')\n",
    "chi = sy.Symbol('\\\\chi')\n",
    "Delta_nu_D = sy.Symbol('\\\\Delta \\\\nu_D')\n",
    "Delta_nu_L = sy.Symbol('\\\\Delta \\\\nu_L')\n",
    "e = sy.Symbol('e')\n",
    "E_e = sy.Symbol('E_e')\n",
    "E_e_lambda = sy.Symbol('E_{{e, \\\\lambda}}')\n",
    "epsilon = sy.Symbol('\\\\varepsilon')\n",
    "epsilon_0 = sy.Symbol('\\\\varepsilon_0')\n",
    "H = sy.Symbol('H')\n",
    "h = sy.Symbol('h')\n",
    "i = sy.Symbol('i')\n",
    "J = sy.Symbol('J')\n",
    "j = sy.Symbol('j')\n",
    "K = sy.Symbol('K')\n",
    "k_B = sy.Symbol('k_B')\n",
    "kappa_0 = sy.Symbol('\\\\kappa_0')\n",
    "kappa_1 = sy.Symbol('\\\\kappa_1')\n",
    "kappa_2 = sy.Symbol('\\\\kappa_2')\n",
    "kappa_3 = sy.Symbol('\\\\kappa_3')\n",
    "Lambda = sy.Symbol('\\\\Lambda')\n",
    "slambda = sy.Symbol('\\\\lambda')\n",
    "lambda_0 = sy.Symbol('\\\\lambda_0')\n",
    "m_e = sy.Symbol('m_e')\n",
    "m_i = sy.Symbol('m_i')\n",
    "q = sy.Symbol('q')\n",
    "R_lambda = sy.Symbol('R_\\\\lambda')\n",
    "sigma = sy.Symbol('\\\\sigma')\n",
    "sigma_SB = sy.Symbol('\\\\sigma_{{SB}}')\n",
    "T = sy.Symbol('T')\n",
    "tau = sy.Symbol('\\\\tau')\n",
    "x = sy.Symbol('x')\n",
    "z = sy.Symbol('z')\n",
    "zeta_0 = sy.Symbol('\\\\zeta_0')\n",
    "zeta_1 = sy.Symbol('\\\\zeta_1')\n",
    "\n",
    "f = sy.MatrixSymbol('f', K, K)\n",
    "g = sy.MatrixSymbol('g', 1, K)\n",
    "R_PI = sy.MatrixSymbol('R^{{(PI)}}', K, K)\n",
    "R_SE = sy.MatrixSymbol('R^{{(SE)}}', K, K)"
   ]
  },
  {
   "cell_type": "code",
   "execution_count": 3,
   "metadata": {},
   "outputs": [],
   "source": [
    "constants = {\n",
    "    c: 2.99792458e10 * centimeter * second**(-1),\n",
    "    chi: 21,\n",
    "    e: 4.8032042510e-10 * centimeter**(3 / 2) * gram**(1 / 2) * second**(-1),\n",
    "    epsilon: 1.77245385,\n",
    "    epsilon_0: 8.85418781762039e-12 * farad * meter**(-1),\n",
    "    # F: 1367.0 * watt * meter**(-2), # Sun\n",
    "    h: 4.135667696e-15 * electronvolt * second,\n",
    "    # K: 3,\n",
    "    k_B: 8.617333262e-5 * electronvolt * kelvin**(-1),\n",
    "    kappa_0: 0.1117,\n",
    "    kappa_1: 4.421,\n",
    "    kappa_2: -9.207,\n",
    "    kappa_3: 5.674,\n",
    "    m_e: 5.68563010362509e-16 * centimeter**(-2) * electronvolt * second**2,\n",
    "    # m_i: 16 * dalton,\n",
    "    tau: 1,\n",
    "    zeta_0: 0.855,\n",
    "    zeta_1: 3.42,\n",
    "    # f: [],\n",
    "    # g: [],\n",
    "    # R_PI: [],\n",
    "    # R_SE: [],\n",
    "}"
   ]
  },
  {
   "cell_type": "code",
   "execution_count": 4,
   "metadata": {},
   "outputs": [
    {
     "data": {
      "text/latex": [
       "$\\displaystyle R_{\\lambda} = \\frac{2 \\pi c^{2} h}{\\lambda^{5} \\left(e^{\\frac{c h}{T \\lambda k_{B}}} - 1\\right)}$"
      ],
      "text/plain": [
       "Eq(R_\\lambda, 2*pi*c**2*h/(\\lambda**5*(exp(c*h/(T*\\lambda*k_B)) - 1)))"
      ]
     },
     "execution_count": 4,
     "metadata": {},
     "output_type": "execute_result"
    }
   ],
   "source": [
    "R_lambda_ = (\n",
    "    + 2 * sy.pi * h * c**2\n",
    "    / slambda**5\n",
    "    / (sy.exp(h * c / (slambda * k_B * T)) - 1)\n",
    ")\n",
    "sy.Eq(R_lambda, R_lambda_)"
   ]
  },
  {
   "cell_type": "code",
   "execution_count": 5,
   "metadata": {},
   "outputs": [
    {
     "data": {
      "text/latex": [
       "$\\displaystyle \\sigma_{{SB}} = \\frac{2 \\pi^{5} k_{B}^{4}}{15 c^{2} h^{3}}$"
      ],
      "text/plain": [
       "Eq(\\sigma_{{SB}}, 2*pi**5*k_B**4/(15*c**2*h**3))"
      ]
     },
     "execution_count": 5,
     "metadata": {},
     "output_type": "execute_result"
    }
   ],
   "source": [
    "sigma_SB_ = 2 * sy.pi**5 * k_B**4 / (15 * c**2 * h**3)\n",
    "sy.Eq(sigma_SB, sigma_SB_)"
   ]
  },
  {
   "cell_type": "code",
   "execution_count": 6,
   "metadata": {},
   "outputs": [
    {
     "data": {
      "text/latex": [
       "$\\displaystyle J = T^{4} \\sigma_{{SB}}$"
      ],
      "text/plain": [
       "Eq(J, T**4*\\sigma_{{SB}})"
      ]
     },
     "execution_count": 6,
     "metadata": {},
     "output_type": "execute_result"
    }
   ],
   "source": [
    "J_ = sigma_SB * T**4\n",
    "sy.Eq(J, J_)"
   ]
  },
  {
   "cell_type": "code",
   "execution_count": 7,
   "metadata": {},
   "outputs": [
    {
     "data": {
      "text/latex": [
       "$\\displaystyle J = \\frac{2 \\pi^{5} T^{4} k_{B}^{4}}{15 c^{2} h^{3}}$"
      ],
      "text/plain": [
       "Eq(J, 2*pi**5*T**4*k_B**4/(15*c**2*h**3))"
      ]
     },
     "execution_count": 7,
     "metadata": {},
     "output_type": "execute_result"
    }
   ],
   "source": [
    "J__ = J_.subs(sigma_SB, sigma_SB_)\n",
    "sy.Eq(J, J__)"
   ]
  },
  {
   "cell_type": "code",
   "execution_count": 8,
   "metadata": {},
   "outputs": [
    {
     "data": {
      "text/latex": [
       "$\\displaystyle E_{{e, \\lambda}} = \\frac{E_{e} R_{\\lambda}}{J}$"
      ],
      "text/plain": [
       "Eq(E_{{e, \\lambda}}, E_e*R_\\lambda/J)"
      ]
     },
     "execution_count": 8,
     "metadata": {},
     "output_type": "execute_result"
    }
   ],
   "source": [
    "E_e_lambda_ = E_e * R_lambda / J\n",
    "sy.Eq(E_e_lambda, E_e_lambda_)"
   ]
  },
  {
   "cell_type": "code",
   "execution_count": 9,
   "metadata": {},
   "outputs": [
    {
     "data": {
      "text/latex": [
       "$\\displaystyle E_{{e, \\lambda}} = \\frac{15 E_{e} c^{4} h^{4}}{\\pi^{4} T^{4} \\lambda^{5} k_{B}^{4} \\left(e^{\\frac{c h}{T \\lambda k_{B}}} - 1\\right)}$"
      ],
      "text/plain": [
       "Eq(E_{{e, \\lambda}}, 15*E_e*c**4*h**4/(pi**4*T**4*\\lambda**5*k_B**4*(exp(c*h/(T*\\lambda*k_B)) - 1)))"
      ]
     },
     "execution_count": 9,
     "metadata": {},
     "output_type": "execute_result"
    }
   ],
   "source": [
    "E_e_lambda__ = E_e_lambda_.subs(R_lambda, R_lambda_).subs(J, J__)\n",
    "sy.Eq(E_e_lambda, E_e_lambda__)"
   ]
  },
  {
   "cell_type": "code",
   "execution_count": 10,
   "metadata": {},
   "outputs": [
    {
     "data": {
      "text/latex": [
       "$\\displaystyle f_{i, j} = \\left( \\left( i, \\  j\\right) \\mapsto \\frac{\\lambda^{2} \\varepsilon_{0} c m_{e} g_{0, j}}{2 \\pi e^{2} g_{0, i}} R^{{(SE)}} \\right)$"
      ],
      "text/plain": [
       "Eq(f[i, j], Lambda((i, j), (\\lambda**2*\\varepsilon_0*c*m_e*g[0, j]/(2*pi*e**2*g[0, i]))*R^{{(SE)}}))"
      ]
     },
     "execution_count": 10,
     "metadata": {},
     "output_type": "execute_result"
    }
   ],
   "source": [
    "f_ = sy.FunctionMatrix(\n",
    "    K, K,\n",
    "    sy.Lambda(\n",
    "        (i, j),\n",
    "        # R_SE * g[0, j] / g[0, i] * slambda**2 / Lambda\n",
    "        R_SE * g[0, j] / g[0, i] * m_e * c * epsilon_0 * slambda**2 / (2 * sy.pi * e**2)\n",
    "    )\n",
    ")\n",
    "sy.Eq(f[i, j], f_.lamda)"
   ]
  },
  {
   "cell_type": "code",
   "execution_count": 11,
   "metadata": {},
   "outputs": [
    {
     "data": {
      "text/latex": [
       "$\\displaystyle \\Delta \\nu_{D} = \\frac{\\sqrt{2} c \\sqrt{\\frac{T k_{B}}{c^{2} m_{i}}}}{\\lambda_{0}}$"
      ],
      "text/plain": [
       "Eq(\\Delta \\nu_D, sqrt(2)*c*sqrt(T*k_B/(c**2*m_i))/\\lambda_0)"
      ]
     },
     "execution_count": 11,
     "metadata": {},
     "output_type": "execute_result"
    }
   ],
   "source": [
    "Delta_nu_D_ = c / lambda_0 * sy.sqrt(2 * k_B * T / (m_i * c**2))\n",
    "sy.Eq(Delta_nu_D, Delta_nu_D_)"
   ]
  },
  {
   "cell_type": "code",
   "execution_count": 12,
   "metadata": {},
   "outputs": [
    {
     "data": {
      "text/latex": [
       "$\\displaystyle \\Delta \\nu_{D} = \\frac{\\sqrt{2} \\left(T k_{B}\\right)^{0.5}}{\\lambda_{0} m_{i}^{0.5}}$"
      ],
      "text/plain": [
       "Eq(\\Delta \\nu_D, sqrt(2)*(T*k_B)**0.5/(\\lambda_0*m_i**0.5))"
      ]
     },
     "execution_count": 12,
     "metadata": {},
     "output_type": "execute_result"
    }
   ],
   "source": [
    "Delta_nu_D__ = sy.sqrt(2) * c * (k_B * T)**(1 / 2) / (lambda_0 * c * m_i**(1 / 2))\n",
    "sy.Eq(Delta_nu_D, Delta_nu_D__)"
   ]
  },
  {
   "cell_type": "code",
   "execution_count": 13,
   "metadata": {},
   "outputs": [
    {
     "data": {
      "text/latex": [
       "$\\displaystyle \\Delta \\nu_{L} = \\frac{R^{{(SE)}}_{i, j}}{2 \\pi}$"
      ],
      "text/plain": [
       "Eq(\\Delta \\nu_L, R^{{(SE)}}[i, j]/(2*pi))"
      ]
     },
     "execution_count": 13,
     "metadata": {},
     "output_type": "execute_result"
    }
   ],
   "source": [
    "Delta_nu_L_ = R_SE[i, j] / (2 * sy.pi)\n",
    "sy.Eq(Delta_nu_L, Delta_nu_L_)"
   ]
  },
  {
   "cell_type": "code",
   "execution_count": 14,
   "metadata": {},
   "outputs": [
    {
     "data": {
      "text/latex": [
       "$\\displaystyle \\alpha = \\frac{\\Delta \\nu_{L}}{2 \\Delta \\nu_{D}}$"
      ],
      "text/plain": [
       "Eq(\\alpha, \\Delta \\nu_L/(2*\\Delta \\nu_D))"
      ]
     },
     "execution_count": 14,
     "metadata": {},
     "output_type": "execute_result"
    }
   ],
   "source": [
    "alpha_ = Delta_nu_L / (2 * Delta_nu_D)\n",
    "sy.Eq(alpha, alpha_)"
   ]
  },
  {
   "cell_type": "code",
   "execution_count": 15,
   "metadata": {},
   "outputs": [
    {
     "data": {
      "text/latex": [
       "$\\displaystyle \\alpha = \\frac{\\sqrt{2} \\lambda_{0} m_{i}^{0.5} R^{{(SE)}}_{i, j}}{8 \\pi \\left(T k_{B}\\right)^{0.5}}$"
      ],
      "text/plain": [
       "Eq(\\alpha, sqrt(2)*\\lambda_0*m_i**0.5*R^{{(SE)}}[i, j]/(8*pi*(T*k_B)**0.5))"
      ]
     },
     "execution_count": 15,
     "metadata": {},
     "output_type": "execute_result"
    }
   ],
   "source": [
    "alpha__ = alpha_.subs(Delta_nu_L, Delta_nu_L_).subs(Delta_nu_D, Delta_nu_D__)\n",
    "sy.Eq(alpha, alpha__)"
   ]
  },
  {
   "cell_type": "code",
   "execution_count": 16,
   "metadata": {},
   "outputs": [
    {
     "data": {
      "text/latex": [
       "$\\displaystyle x = \\frac{c \\left(- \\lambda + \\lambda_{0}\\right)}{\\Delta \\nu_{D} \\lambda \\lambda_{0}}$"
      ],
      "text/plain": [
       "Eq(x, c*(-\\lambda + \\lambda_0)/(\\Delta \\nu_D*\\lambda*\\lambda_0))"
      ]
     },
     "execution_count": 16,
     "metadata": {},
     "output_type": "execute_result"
    }
   ],
   "source": [
    "x_ = c * (lambda_0 - slambda) / (slambda * lambda_0 * Delta_nu_D)\n",
    "sy.Eq(x, x_)"
   ]
  },
  {
   "cell_type": "code",
   "execution_count": 17,
   "metadata": {},
   "outputs": [
    {
     "data": {
      "text/latex": [
       "$\\displaystyle x = \\frac{\\sqrt{2} c m_{i}^{0.5} \\left(- \\lambda + \\lambda_{0}\\right)}{2 \\lambda \\left(T k_{B}\\right)^{0.5}}$"
      ],
      "text/plain": [
       "Eq(x, sqrt(2)*c*m_i**0.5*(-\\lambda + \\lambda_0)/(2*\\lambda*(T*k_B)**0.5))"
      ]
     },
     "execution_count": 17,
     "metadata": {},
     "output_type": "execute_result"
    }
   ],
   "source": [
    "x__ = x_.subs(Delta_nu_D, Delta_nu_D__).simplify()\n",
    "sy.Eq(x, x__)"
   ]
  },
  {
   "cell_type": "code",
   "execution_count": 18,
   "metadata": {},
   "outputs": [
    {
     "data": {
      "text/latex": [
       "$\\displaystyle z = \\frac{- \\zeta_{0} + x^{2}}{\\zeta_{1} + x^{2}}$"
      ],
      "text/plain": [
       "Eq(z, (-\\zeta_0 + x**2)/(\\zeta_1 + x**2))"
      ]
     },
     "execution_count": 18,
     "metadata": {},
     "output_type": "execute_result"
    }
   ],
   "source": [
    "z_ = (x**2 - zeta_0) / (x**2 + zeta_1)\n",
    "sy.Eq(z, z_)"
   ]
  },
  {
   "cell_type": "code",
   "execution_count": 19,
   "metadata": {},
   "outputs": [
    {
     "data": {
      "text/latex": [
       "$\\displaystyle z = \\frac{- 2 \\lambda^{2} \\zeta_{0} \\left(T k_{B}\\right)^{1.0} + c^{2} m_{i}^{1.0} \\left(\\lambda - \\lambda_{0}\\right)^{2}}{2 \\lambda^{2} \\zeta_{1} \\left(T k_{B}\\right)^{1.0} + c^{2} m_{i}^{1.0} \\left(\\lambda - \\lambda_{0}\\right)^{2}}$"
      ],
      "text/plain": [
       "Eq(z, (-2*\\lambda**2*\\zeta_0*(T*k_B)**1.0 + c**2*m_i**1.0*(\\lambda - \\lambda_0)**2)/(2*\\lambda**2*\\zeta_1*(T*k_B)**1.0 + c**2*m_i**1.0*(\\lambda - \\lambda_0)**2))"
      ]
     },
     "execution_count": 19,
     "metadata": {},
     "output_type": "execute_result"
    }
   ],
   "source": [
    "z__ = z_.subs(x, x__).simplify()\n",
    "sy.Eq(z, z__)"
   ]
  },
  {
   "cell_type": "code",
   "execution_count": 20,
   "metadata": {},
   "outputs": [
    {
     "data": {
      "text/latex": [
       "$\\displaystyle q = \\begin{cases} \\frac{\\alpha z \\left(\\kappa_{0} + z \\left(\\kappa_{1} + z \\left(\\kappa_{2} + \\kappa_{3} z\\right)\\right)\\right) \\left(\\frac{\\chi}{x^{2}} + 1\\right)}{\\pi \\left(x^{2} + 1\\right)} & \\text{for}\\: z > 0 \\\\0 & \\text{otherwise} \\end{cases}$"
      ],
      "text/plain": [
       "Eq(q, Piecewise((\\alpha*z*(\\kappa_0 + z*(\\kappa_1 + z*(\\kappa_2 + \\kappa_3*z)))*(\\chi/x**2 + 1)/(pi*(x**2 + 1)), z > 0), (0, True)))"
      ]
     },
     "execution_count": 20,
     "metadata": {},
     "output_type": "execute_result"
    }
   ],
   "source": [
    "q_ = sy.Piecewise(\n",
    "    (\n",
    "        + z\n",
    "        * (1 + chi / x**2)\n",
    "        * alpha\n",
    "        / (sy.pi * (x**2 + 1))\n",
    "        * (kappa_0 + z * (kappa_1 + z * (kappa_2 + kappa_3 * z))),\n",
    "        z > 0\n",
    "    ),\n",
    "    (0, z <= 0),\n",
    ")\n",
    "sy.Eq(q, q_)"
   ]
  },
  {
   "cell_type": "code",
   "execution_count": 21,
   "metadata": {},
   "outputs": [
    {
     "data": {
      "text/latex": [
       "$\\displaystyle q = \\begin{cases} - \\frac{\\sqrt{2} \\lambda^{2} \\lambda_{0} \\left(T k_{B}\\right)^{0.5} \\left(\\kappa_{0} \\left(2 \\lambda^{2} \\zeta_{1} \\left(T k_{B}\\right)^{1.0} + c^{2} m_{i}^{1.0} \\left(\\lambda - \\lambda_{0}\\right)^{2}\\right)^{3} - \\left(\\kappa_{1} \\left(2 \\lambda^{2} \\zeta_{1} \\left(T k_{B}\\right)^{1.0} + c^{2} m_{i}^{1.0} \\left(\\lambda - \\lambda_{0}\\right)^{2}\\right)^{2} - \\left(\\kappa_{2} \\cdot \\left(2 \\lambda^{2} \\zeta_{1} \\left(T k_{B}\\right)^{1.0} + c^{2} m_{i}^{1.0} \\left(\\lambda - \\lambda_{0}\\right)^{2}\\right) - \\kappa_{3} \\cdot \\left(2 \\lambda^{2} \\zeta_{0} \\left(T k_{B}\\right)^{1.0} - c^{2} m_{i}^{1.0} \\left(\\lambda - \\lambda_{0}\\right)^{2}\\right)\\right) \\left(2 \\lambda^{2} \\zeta_{0} \\left(T k_{B}\\right)^{1.0} - c^{2} m_{i}^{1.0} \\left(\\lambda - \\lambda_{0}\\right)^{2}\\right)\\right) \\left(2 \\lambda^{2} \\zeta_{0} \\left(T k_{B}\\right)^{1.0} - c^{2} m_{i}^{1.0} \\left(\\lambda - \\lambda_{0}\\right)^{2}\\right)\\right) \\left(2 \\chi \\lambda^{2} \\left(T k_{B}\\right)^{1.0} + c^{2} m_{i}^{1.0} \\left(\\lambda - \\lambda_{0}\\right)^{2}\\right) \\left(2 \\lambda^{2} \\zeta_{0} \\left(T k_{B}\\right)^{1.0} - c^{2} m_{i}^{1.0} \\left(\\lambda - \\lambda_{0}\\right)^{2}\\right) R^{{(SE)}}_{i, j}}{4 \\pi^{2} c^{2} m_{i}^{0.5} \\left(\\lambda - \\lambda_{0}\\right)^{2} \\cdot \\left(2 \\lambda^{2} \\left(T k_{B}\\right)^{1.0} + c^{2} m_{i}^{1.0} \\left(\\lambda - \\lambda_{0}\\right)^{2}\\right) \\left(2 \\lambda^{2} \\zeta_{1} \\left(T k_{B}\\right)^{1.0} + c^{2} m_{i}^{1.0} \\left(\\lambda - \\lambda_{0}\\right)^{2}\\right)^{4}} & \\text{for}\\: \\frac{- 2 \\lambda^{2} \\zeta_{0} \\left(T k_{B}\\right)^{1.0} + c^{2} m_{i}^{1.0} \\left(\\lambda - \\lambda_{0}\\right)^{2}}{2 \\lambda^{2} \\zeta_{1} \\left(T k_{B}\\right)^{1.0} + c^{2} m_{i}^{1.0} \\left(\\lambda - \\lambda_{0}\\right)^{2}} > 0 \\\\0 & \\text{otherwise} \\end{cases}$"
      ],
      "text/plain": [
       "Eq(q, Piecewise((-sqrt(2)*\\lambda**2*\\lambda_0*(T*k_B)**0.5*(\\kappa_0*(2*\\lambda**2*\\zeta_1*(T*k_B)**1.0 + c**2*m_i**1.0*(\\lambda - \\lambda_0)**2)**3 - (\\kappa_1*(2*\\lambda**2*\\zeta_1*(T*k_B)**1.0 + c**2*m_i**1.0*(\\lambda - \\lambda_0)**2)**2 - (\\kappa_2*(2*\\lambda**2*\\zeta_1*(T*k_B)**1.0 + c**2*m_i**1.0*(\\lambda - \\lambda_0)**2) - \\kappa_3*(2*\\lambda**2*\\zeta_0*(T*k_B)**1.0 - c**2*m_i**1.0*(\\lambda - \\lambda_0)**2))*(2*\\lambda**2*\\zeta_0*(T*k_B)**1.0 - c**2*m_i**1.0*(\\lambda - \\lambda_0)**2))*(2*\\lambda**2*\\zeta_0*(T*k_B)**1.0 - c**2*m_i**1.0*(\\lambda - \\lambda_0)**2))*(2*\\chi*\\lambda**2*(T*k_B)**1.0 + c**2*m_i**1.0*(\\lambda - \\lambda_0)**2)*(2*\\lambda**2*\\zeta_0*(T*k_B)**1.0 - c**2*m_i**1.0*(\\lambda - \\lambda_0)**2)*R^{{(SE)}}[i, j]/(4*pi**2*c**2*m_i**0.5*(\\lambda - \\lambda_0)**2*(2*\\lambda**2*(T*k_B)**1.0 + c**2*m_i**1.0*(\\lambda - \\lambda_0)**2)*(2*\\lambda**2*\\zeta_1*(T*k_B)**1.0 + c**2*m_i**1.0*(\\lambda - \\lambda_0)**2)**4), (-2*\\lambda**2*\\zeta_0*(T*k_B)**1.0 + c**2*m_i**1.0*(\\lambda - \\lambda_0)**2)/(2*\\lambda**2*\\zeta_1*(T*k_B)**1.0 + c**2*m_i**1.0*(\\lambda - \\lambda_0)**2) > 0), (0, True)))"
      ]
     },
     "execution_count": 21,
     "metadata": {},
     "output_type": "execute_result"
    }
   ],
   "source": [
    "q__ = q_.subs(z, z__).subs(x, x__).subs(alpha, alpha__).simplify()\n",
    "# q__ = q_.subs(z, z__).subs(x, x__).subs(alpha, alpha__).expand()\n",
    "sy.Eq(q, q__)"
   ]
  },
  {
   "cell_type": "code",
   "execution_count": 22,
   "metadata": {},
   "outputs": [
    {
     "data": {
      "text/latex": [
       "$\\displaystyle H = \\sqrt{\\pi} \\left(q + \\frac{e^{- x^{2}}}{\\varepsilon}\\right)$"
      ],
      "text/plain": [
       "Eq(H, sqrt(pi)*(q + exp(-x**2)/\\varepsilon))"
      ]
     },
     "execution_count": 22,
     "metadata": {},
     "output_type": "execute_result"
    }
   ],
   "source": [
    "H_ = sy.sqrt(sy.pi) * (q + sy.exp(-x**2) / epsilon)\n",
    "sy.Eq(H, H_)"
   ]
  },
  {
   "cell_type": "code",
   "execution_count": 23,
   "metadata": {},
   "outputs": [
    {
     "data": {
      "text/latex": [
       "$\\displaystyle H = \\begin{cases} \\sqrt{\\pi} \\left(- \\frac{\\sqrt{2} \\lambda^{2} \\lambda_{0} \\left(T k_{B}\\right)^{0.5} \\left(\\kappa_{0} \\left(2 \\lambda^{2} \\zeta_{1} \\left(T k_{B}\\right)^{1.0} + c^{2} m_{i}^{1.0} \\left(\\lambda - \\lambda_{0}\\right)^{2}\\right)^{3} - \\left(\\kappa_{1} \\left(2 \\lambda^{2} \\zeta_{1} \\left(T k_{B}\\right)^{1.0} + c^{2} m_{i}^{1.0} \\left(\\lambda - \\lambda_{0}\\right)^{2}\\right)^{2} - \\left(\\kappa_{2} \\cdot \\left(2 \\lambda^{2} \\zeta_{1} \\left(T k_{B}\\right)^{1.0} + c^{2} m_{i}^{1.0} \\left(\\lambda - \\lambda_{0}\\right)^{2}\\right) - \\kappa_{3} \\cdot \\left(2 \\lambda^{2} \\zeta_{0} \\left(T k_{B}\\right)^{1.0} - c^{2} m_{i}^{1.0} \\left(\\lambda - \\lambda_{0}\\right)^{2}\\right)\\right) \\left(2 \\lambda^{2} \\zeta_{0} \\left(T k_{B}\\right)^{1.0} - c^{2} m_{i}^{1.0} \\left(\\lambda - \\lambda_{0}\\right)^{2}\\right)\\right) \\left(2 \\lambda^{2} \\zeta_{0} \\left(T k_{B}\\right)^{1.0} - c^{2} m_{i}^{1.0} \\left(\\lambda - \\lambda_{0}\\right)^{2}\\right)\\right) \\left(2 \\chi \\lambda^{2} \\left(T k_{B}\\right)^{1.0} + c^{2} m_{i}^{1.0} \\left(\\lambda - \\lambda_{0}\\right)^{2}\\right) \\left(2 \\lambda^{2} \\zeta_{0} \\left(T k_{B}\\right)^{1.0} - c^{2} m_{i}^{1.0} \\left(\\lambda - \\lambda_{0}\\right)^{2}\\right) R^{{(SE)}}_{i, j}}{4 \\pi^{2} c^{2} m_{i}^{0.5} \\left(\\lambda - \\lambda_{0}\\right)^{2} \\cdot \\left(2 \\lambda^{2} \\left(T k_{B}\\right)^{1.0} + c^{2} m_{i}^{1.0} \\left(\\lambda - \\lambda_{0}\\right)^{2}\\right) \\left(2 \\lambda^{2} \\zeta_{1} \\left(T k_{B}\\right)^{1.0} + c^{2} m_{i}^{1.0} \\left(\\lambda - \\lambda_{0}\\right)^{2}\\right)^{4}} + \\frac{e^{- \\frac{c^{2} m_{i}^{1.0} \\left(- \\lambda + \\lambda_{0}\\right)^{2}}{2 \\lambda^{2} \\left(T k_{B}\\right)^{1.0}}}}{\\varepsilon}\\right) & \\text{for}\\: \\frac{- 2 \\lambda^{2} \\zeta_{0} \\left(T k_{B}\\right)^{1.0} + c^{2} m_{i}^{1.0} \\left(\\lambda - \\lambda_{0}\\right)^{2}}{2 \\lambda^{2} \\zeta_{1} \\left(T k_{B}\\right)^{1.0} + c^{2} m_{i}^{1.0} \\left(\\lambda - \\lambda_{0}\\right)^{2}} > 0 \\\\\\frac{\\sqrt{\\pi} e^{- \\frac{c^{2} m_{i}^{1.0} \\left(- \\lambda + \\lambda_{0}\\right)^{2}}{2 \\lambda^{2} \\left(T k_{B}\\right)^{1.0}}}}{\\varepsilon} & \\text{otherwise} \\end{cases}$"
      ],
      "text/plain": [
       "Eq(H, Piecewise((sqrt(pi)*(-sqrt(2)*\\lambda**2*\\lambda_0*(T*k_B)**0.5*(\\kappa_0*(2*\\lambda**2*\\zeta_1*(T*k_B)**1.0 + c**2*m_i**1.0*(\\lambda - \\lambda_0)**2)**3 - (\\kappa_1*(2*\\lambda**2*\\zeta_1*(T*k_B)**1.0 + c**2*m_i**1.0*(\\lambda - \\lambda_0)**2)**2 - (\\kappa_2*(2*\\lambda**2*\\zeta_1*(T*k_B)**1.0 + c**2*m_i**1.0*(\\lambda - \\lambda_0)**2) - \\kappa_3*(2*\\lambda**2*\\zeta_0*(T*k_B)**1.0 - c**2*m_i**1.0*(\\lambda - \\lambda_0)**2))*(2*\\lambda**2*\\zeta_0*(T*k_B)**1.0 - c**2*m_i**1.0*(\\lambda - \\lambda_0)**2))*(2*\\lambda**2*\\zeta_0*(T*k_B)**1.0 - c**2*m_i**1.0*(\\lambda - \\lambda_0)**2))*(2*\\chi*\\lambda**2*(T*k_B)**1.0 + c**2*m_i**1.0*(\\lambda - \\lambda_0)**2)*(2*\\lambda**2*\\zeta_0*(T*k_B)**1.0 - c**2*m_i**1.0*(\\lambda - \\lambda_0)**2)*R^{{(SE)}}[i, j]/(4*pi**2*c**2*m_i**0.5*(\\lambda - \\lambda_0)**2*(2*\\lambda**2*(T*k_B)**1.0 + c**2*m_i**1.0*(\\lambda - \\lambda_0)**2)*(2*\\lambda**2*\\zeta_1*(T*k_B)**1.0 + c**2*m_i**1.0*(\\lambda - \\lambda_0)**2)**4) + exp(-c**2*m_i**1.0*(-\\lambda + \\lambda_0)**2/(2*\\lambda**2*(T*k_B)**1.0))/\\varepsilon), (-2*\\lambda**2*\\zeta_0*(T*k_B)**1.0 + c**2*m_i**1.0*(\\lambda - \\lambda_0)**2)/(2*\\lambda**2*\\zeta_1*(T*k_B)**1.0 + c**2*m_i**1.0*(\\lambda - \\lambda_0)**2) > 0), (sqrt(pi)*exp(-c**2*m_i**1.0*(-\\lambda + \\lambda_0)**2/(2*\\lambda**2*(T*k_B)**1.0))/\\varepsilon, True)))"
      ]
     },
     "execution_count": 23,
     "metadata": {},
     "output_type": "execute_result"
    }
   ],
   "source": [
    "H__ = sy.Piecewise(\n",
    "    (H_.subs(x, x__).subs(q, q__.args[0][0]), q__.args[0][1]),\n",
    "    (H_.subs(x, x__).subs(q, q__.args[1][0]), q__.args[1][1]),\n",
    ")\n",
    "sy.Eq(H, H__)"
   ]
  },
  {
   "cell_type": "code",
   "execution_count": 24,
   "metadata": {},
   "outputs": [
    {
     "data": {
      "text/latex": [
       "$\\displaystyle \\sigma = \\frac{H e^{2} f_{i, j}}{4 \\sqrt{\\pi} \\Delta \\nu_{D} \\varepsilon_{0} c m_{e}}$"
      ],
      "text/plain": [
       "Eq(\\sigma, H*e**2*f[i, j]/(4*sqrt(pi)*\\Delta \\nu_D*\\varepsilon_0*c*m_e))"
      ]
     },
     "execution_count": 24,
     "metadata": {},
     "output_type": "execute_result"
    }
   ],
   "source": [
    "sigma_ = 1 / (4 * sy.pi * epsilon_0) * f[i, j] * sy.sqrt(sy.pi) * e**2 / (m_e * c * Delta_nu_D) * H\n",
    "sy.Eq(sigma, sigma_)"
   ]
  },
  {
   "cell_type": "code",
   "execution_count": 25,
   "metadata": {},
   "outputs": [
    {
     "data": {
      "text/latex": [
       "$\\displaystyle \\sigma = \\begin{cases} \\frac{\\sqrt{2} \\lambda^{2} \\lambda_{0} m_{i}^{0.5} \\left(- \\frac{\\sqrt{2} \\lambda^{2} \\lambda_{0} \\left(T k_{B}\\right)^{0.5} \\left(\\kappa_{0} \\left(2 \\lambda^{2} \\zeta_{1} \\left(T k_{B}\\right)^{1.0} + c^{2} m_{i}^{1.0} \\left(\\lambda - \\lambda_{0}\\right)^{2}\\right)^{3} - \\left(\\kappa_{1} \\left(2 \\lambda^{2} \\zeta_{1} \\left(T k_{B}\\right)^{1.0} + c^{2} m_{i}^{1.0} \\left(\\lambda - \\lambda_{0}\\right)^{2}\\right)^{2} - \\left(\\kappa_{2} \\cdot \\left(2 \\lambda^{2} \\zeta_{1} \\left(T k_{B}\\right)^{1.0} + c^{2} m_{i}^{1.0} \\left(\\lambda - \\lambda_{0}\\right)^{2}\\right) - \\kappa_{3} \\cdot \\left(2 \\lambda^{2} \\zeta_{0} \\left(T k_{B}\\right)^{1.0} - c^{2} m_{i}^{1.0} \\left(\\lambda - \\lambda_{0}\\right)^{2}\\right)\\right) \\left(2 \\lambda^{2} \\zeta_{0} \\left(T k_{B}\\right)^{1.0} - c^{2} m_{i}^{1.0} \\left(\\lambda - \\lambda_{0}\\right)^{2}\\right)\\right) \\left(2 \\lambda^{2} \\zeta_{0} \\left(T k_{B}\\right)^{1.0} - c^{2} m_{i}^{1.0} \\left(\\lambda - \\lambda_{0}\\right)^{2}\\right)\\right) \\left(2 \\chi \\lambda^{2} \\left(T k_{B}\\right)^{1.0} + c^{2} m_{i}^{1.0} \\left(\\lambda - \\lambda_{0}\\right)^{2}\\right) \\left(2 \\lambda^{2} \\zeta_{0} \\left(T k_{B}\\right)^{1.0} - c^{2} m_{i}^{1.0} \\left(\\lambda - \\lambda_{0}\\right)^{2}\\right) R^{{(SE)}}_{i, j}}{4 \\pi^{2} c^{2} m_{i}^{0.5} \\left(\\lambda - \\lambda_{0}\\right)^{2} \\cdot \\left(2 \\lambda^{2} \\left(T k_{B}\\right)^{1.0} + c^{2} m_{i}^{1.0} \\left(\\lambda - \\lambda_{0}\\right)^{2}\\right) \\left(2 \\lambda^{2} \\zeta_{1} \\left(T k_{B}\\right)^{1.0} + c^{2} m_{i}^{1.0} \\left(\\lambda - \\lambda_{0}\\right)^{2}\\right)^{4}} + \\frac{e^{- \\frac{c^{2} m_{i}^{1.0} \\left(- \\lambda + \\lambda_{0}\\right)^{2}}{2 \\lambda^{2} \\left(T k_{B}\\right)^{1.0}}}}{\\varepsilon}\\right) g_{0, j}}{16 \\pi \\left(T k_{B}\\right)^{0.5} g_{0, i}} R^{{(SE)}} & \\text{for}\\: \\frac{- 2 \\lambda^{2} \\zeta_{0} \\left(T k_{B}\\right)^{1.0} + c^{2} m_{i}^{1.0} \\left(\\lambda - \\lambda_{0}\\right)^{2}}{2 \\lambda^{2} \\zeta_{1} \\left(T k_{B}\\right)^{1.0} + c^{2} m_{i}^{1.0} \\left(\\lambda - \\lambda_{0}\\right)^{2}} > 0 \\\\\\frac{\\sqrt{2} \\lambda^{2} \\lambda_{0} m_{i}^{0.5} e^{- \\frac{c^{2} m_{i}^{1.0} \\left(- \\lambda + \\lambda_{0}\\right)^{2}}{2 \\lambda^{2} \\left(T k_{B}\\right)^{1.0}}} g_{0, j}}{16 \\pi \\varepsilon \\left(T k_{B}\\right)^{0.5} g_{0, i}} R^{{(SE)}} & \\text{otherwise} \\end{cases}$"
      ],
      "text/plain": [
       "Eq(\\sigma, Piecewise(((sqrt(2)*\\lambda**2*\\lambda_0*m_i**0.5*(-sqrt(2)*\\lambda**2*\\lambda_0*(T*k_B)**0.5*(\\kappa_0*(2*\\lambda**2*\\zeta_1*(T*k_B)**1.0 + c**2*m_i**1.0*(\\lambda - \\lambda_0)**2)**3 - (\\kappa_1*(2*\\lambda**2*\\zeta_1*(T*k_B)**1.0 + c**2*m_i**1.0*(\\lambda - \\lambda_0)**2)**2 - (\\kappa_2*(2*\\lambda**2*\\zeta_1*(T*k_B)**1.0 + c**2*m_i**1.0*(\\lambda - \\lambda_0)**2) - \\kappa_3*(2*\\lambda**2*\\zeta_0*(T*k_B)**1.0 - c**2*m_i**1.0*(\\lambda - \\lambda_0)**2))*(2*\\lambda**2*\\zeta_0*(T*k_B)**1.0 - c**2*m_i**1.0*(\\lambda - \\lambda_0)**2))*(2*\\lambda**2*\\zeta_0*(T*k_B)**1.0 - c**2*m_i**1.0*(\\lambda - \\lambda_0)**2))*(2*\\chi*\\lambda**2*(T*k_B)**1.0 + c**2*m_i**1.0*(\\lambda - \\lambda_0)**2)*(2*\\lambda**2*\\zeta_0*(T*k_B)**1.0 - c**2*m_i**1.0*(\\lambda - \\lambda_0)**2)*R^{{(SE)}}[i, j]/(4*pi**2*c**2*m_i**0.5*(\\lambda - \\lambda_0)**2*(2*\\lambda**2*(T*k_B)**1.0 + c**2*m_i**1.0*(\\lambda - \\lambda_0)**2)*(2*\\lambda**2*\\zeta_1*(T*k_B)**1.0 + c**2*m_i**1.0*(\\lambda - \\lambda_0)**2)**4) + exp(-c**2*m_i**1.0*(-\\lambda + \\lambda_0)**2/(2*\\lambda**2*(T*k_B)**1.0))/\\varepsilon)*g[0, j]/(16*pi*(T*k_B)**0.5*g[0, i]))*R^{{(SE)}}, (-2*\\lambda**2*\\zeta_0*(T*k_B)**1.0 + c**2*m_i**1.0*(\\lambda - \\lambda_0)**2)/(2*\\lambda**2*\\zeta_1*(T*k_B)**1.0 + c**2*m_i**1.0*(\\lambda - \\lambda_0)**2) > 0), ((sqrt(2)*\\lambda**2*\\lambda_0*m_i**0.5*exp(-c**2*m_i**1.0*(-\\lambda + \\lambda_0)**2/(2*\\lambda**2*(T*k_B)**1.0))*g[0, j]/(16*pi*\\varepsilon*(T*k_B)**0.5*g[0, i]))*R^{{(SE)}}, True)))"
      ]
     },
     "execution_count": 25,
     "metadata": {},
     "output_type": "execute_result"
    }
   ],
   "source": [
    "sigma__ =  sy.Piecewise(\n",
    "    (sigma_.subs(H, H__.args[0][0]).subs(f[i, j], f_[i, j]).subs(Delta_nu_D, Delta_nu_D__), H__.args[0][1]),\n",
    "    (sigma_.subs(H, H__.args[1][0]).subs(f[i, j], f_[i, j]).subs(Delta_nu_D, Delta_nu_D__), H__.args[1][1]),\n",
    ")\n",
    "sy.Eq(sigma, sigma__)"
   ]
  },
  {
   "cell_type": "code",
   "execution_count": 26,
   "metadata": {},
   "outputs": [
    {
     "data": {
      "text/latex": [
       "$\\displaystyle R^{{(PI)}}_{i, j} = \\int\\limits_{0}^{\\lambda_{0}} \\frac{E_{{e, \\lambda}} \\lambda \\sigma e^{- \\tau}}{c h}\\, d\\lambda$"
      ],
      "text/plain": [
       "Eq(R^{{(PI)}}[i, j], Integral(E_{{e, \\lambda}}*\\lambda*\\sigma*exp(-\\tau)/(c*h), (\\lambda, 0, \\lambda_0)))"
      ]
     },
     "execution_count": 26,
     "metadata": {},
     "output_type": "execute_result"
    }
   ],
   "source": [
    "R_PI_ = sy.Integral(E_e_lambda * slambda / (h * c) * sy.exp(-tau) * sigma, (slambda, 0, lambda_0))\n",
    "sy.Eq(R_PI[i, j], R_PI_)"
   ]
  },
  {
   "cell_type": "code",
   "execution_count": 27,
   "metadata": {},
   "outputs": [
    {
     "data": {
      "text/latex": [
       "$\\displaystyle R^{{(PI)}}_{i, j} = \\begin{cases} \\int\\limits_{0}^{\\lambda_{0}} \\frac{15 \\sqrt{2} E_{e} \\lambda_{0} c^{3} h^{3} m_{i}^{0.5} \\left(- \\frac{\\sqrt{2} \\lambda^{2} \\lambda_{0} \\left(T k_{B}\\right)^{0.5} \\left(\\kappa_{0} \\left(2 \\lambda^{2} \\zeta_{1} \\left(T k_{B}\\right)^{1.0} + c^{2} m_{i}^{1.0} \\left(\\lambda - \\lambda_{0}\\right)^{2}\\right)^{3} - \\left(\\kappa_{1} \\left(2 \\lambda^{2} \\zeta_{1} \\left(T k_{B}\\right)^{1.0} + c^{2} m_{i}^{1.0} \\left(\\lambda - \\lambda_{0}\\right)^{2}\\right)^{2} - \\left(\\kappa_{2} \\cdot \\left(2 \\lambda^{2} \\zeta_{1} \\left(T k_{B}\\right)^{1.0} + c^{2} m_{i}^{1.0} \\left(\\lambda - \\lambda_{0}\\right)^{2}\\right) - \\kappa_{3} \\cdot \\left(2 \\lambda^{2} \\zeta_{0} \\left(T k_{B}\\right)^{1.0} - c^{2} m_{i}^{1.0} \\left(\\lambda - \\lambda_{0}\\right)^{2}\\right)\\right) \\left(2 \\lambda^{2} \\zeta_{0} \\left(T k_{B}\\right)^{1.0} - c^{2} m_{i}^{1.0} \\left(\\lambda - \\lambda_{0}\\right)^{2}\\right)\\right) \\left(2 \\lambda^{2} \\zeta_{0} \\left(T k_{B}\\right)^{1.0} - c^{2} m_{i}^{1.0} \\left(\\lambda - \\lambda_{0}\\right)^{2}\\right)\\right) \\left(2 \\chi \\lambda^{2} \\left(T k_{B}\\right)^{1.0} + c^{2} m_{i}^{1.0} \\left(\\lambda - \\lambda_{0}\\right)^{2}\\right) \\left(2 \\lambda^{2} \\zeta_{0} \\left(T k_{B}\\right)^{1.0} - c^{2} m_{i}^{1.0} \\left(\\lambda - \\lambda_{0}\\right)^{2}\\right) R^{{(SE)}}_{i, j}}{4 \\pi^{2} c^{2} m_{i}^{0.5} \\left(\\lambda - \\lambda_{0}\\right)^{2} \\cdot \\left(2 \\lambda^{2} \\left(T k_{B}\\right)^{1.0} + c^{2} m_{i}^{1.0} \\left(\\lambda - \\lambda_{0}\\right)^{2}\\right) \\left(2 \\lambda^{2} \\zeta_{1} \\left(T k_{B}\\right)^{1.0} + c^{2} m_{i}^{1.0} \\left(\\lambda - \\lambda_{0}\\right)^{2}\\right)^{4}} + \\frac{e^{- \\frac{c^{2} m_{i}^{1.0} \\left(- \\lambda + \\lambda_{0}\\right)^{2}}{2 \\lambda^{2} \\left(T k_{B}\\right)^{1.0}}}}{\\varepsilon}\\right) e^{- \\tau} g_{0, j}}{16 \\pi^{5} T^{4} \\lambda^{2} k_{B}^{4} \\left(T k_{B}\\right)^{0.5} \\left(e^{\\frac{c h}{T \\lambda k_{B}}} - 1\\right) g_{0, i}} R^{{(SE)}}\\, d\\lambda & \\text{for}\\: \\frac{- 2 \\lambda^{2} \\zeta_{0} \\left(T k_{B}\\right)^{1.0} + c^{2} m_{i}^{1.0} \\left(\\lambda - \\lambda_{0}\\right)^{2}}{2 \\lambda^{2} \\zeta_{1} \\left(T k_{B}\\right)^{1.0} + c^{2} m_{i}^{1.0} \\left(\\lambda - \\lambda_{0}\\right)^{2}} > 0 \\\\\\int\\limits_{0}^{\\lambda_{0}} \\frac{15 \\sqrt{2} E_{e} \\lambda_{0} c^{3} h^{3} m_{i}^{0.5} e^{- \\tau} e^{- \\frac{c^{2} m_{i}^{1.0} \\left(- \\lambda + \\lambda_{0}\\right)^{2}}{2 \\lambda^{2} \\left(T k_{B}\\right)^{1.0}}} g_{0, j}}{16 \\pi^{5} T^{4} \\lambda^{2} \\varepsilon k_{B}^{4} \\left(T k_{B}\\right)^{0.5} \\left(e^{\\frac{c h}{T \\lambda k_{B}}} - 1\\right) g_{0, i}} R^{{(SE)}}\\, d\\lambda & \\text{otherwise} \\end{cases}$"
      ],
      "text/plain": [
       "Eq(R^{{(PI)}}[i, j], Piecewise((Integral((15*sqrt(2)*E_e*\\lambda_0*c**3*h**3*m_i**0.5*(-sqrt(2)*\\lambda**2*\\lambda_0*(T*k_B)**0.5*(\\kappa_0*(2*\\lambda**2*\\zeta_1*(T*k_B)**1.0 + c**2*m_i**1.0*(\\lambda - \\lambda_0)**2)**3 - (\\kappa_1*(2*\\lambda**2*\\zeta_1*(T*k_B)**1.0 + c**2*m_i**1.0*(\\lambda - \\lambda_0)**2)**2 - (\\kappa_2*(2*\\lambda**2*\\zeta_1*(T*k_B)**1.0 + c**2*m_i**1.0*(\\lambda - \\lambda_0)**2) - \\kappa_3*(2*\\lambda**2*\\zeta_0*(T*k_B)**1.0 - c**2*m_i**1.0*(\\lambda - \\lambda_0)**2))*(2*\\lambda**2*\\zeta_0*(T*k_B)**1.0 - c**2*m_i**1.0*(\\lambda - \\lambda_0)**2))*(2*\\lambda**2*\\zeta_0*(T*k_B)**1.0 - c**2*m_i**1.0*(\\lambda - \\lambda_0)**2))*(2*\\chi*\\lambda**2*(T*k_B)**1.0 + c**2*m_i**1.0*(\\lambda - \\lambda_0)**2)*(2*\\lambda**2*\\zeta_0*(T*k_B)**1.0 - c**2*m_i**1.0*(\\lambda - \\lambda_0)**2)*R^{{(SE)}}[i, j]/(4*pi**2*c**2*m_i**0.5*(\\lambda - \\lambda_0)**2*(2*\\lambda**2*(T*k_B)**1.0 + c**2*m_i**1.0*(\\lambda - \\lambda_0)**2)*(2*\\lambda**2*\\zeta_1*(T*k_B)**1.0 + c**2*m_i**1.0*(\\lambda - \\lambda_0)**2)**4) + exp(-c**2*m_i**1.0*(-\\lambda + \\lambda_0)**2/(2*\\lambda**2*(T*k_B)**1.0))/\\varepsilon)*exp(-\\tau)*g[0, j]/(16*pi**5*T**4*\\lambda**2*k_B**4*(T*k_B)**0.5*(exp(c*h/(T*\\lambda*k_B)) - 1)*g[0, i]))*R^{{(SE)}}, (\\lambda, 0, \\lambda_0)), (-2*\\lambda**2*\\zeta_0*(T*k_B)**1.0 + c**2*m_i**1.0*(\\lambda - \\lambda_0)**2)/(2*\\lambda**2*\\zeta_1*(T*k_B)**1.0 + c**2*m_i**1.0*(\\lambda - \\lambda_0)**2) > 0), (Integral((15*sqrt(2)*E_e*\\lambda_0*c**3*h**3*m_i**0.5*exp(-\\tau)*exp(-c**2*m_i**1.0*(-\\lambda + \\lambda_0)**2/(2*\\lambda**2*(T*k_B)**1.0))*g[0, j]/(16*pi**5*T**4*\\lambda**2*\\varepsilon*k_B**4*(T*k_B)**0.5*(exp(c*h/(T*\\lambda*k_B)) - 1)*g[0, i]))*R^{{(SE)}}, (\\lambda, 0, \\lambda_0)), True)))"
      ]
     },
     "execution_count": 27,
     "metadata": {},
     "output_type": "execute_result"
    }
   ],
   "source": [
    "R_PI__ = sy.FunctionMatrix(\n",
    "    K, K,\n",
    "    sy.Lambda(\n",
    "        (i, j),\n",
    "        sy.Piecewise(\n",
    "            (\n",
    "                R_PI_\n",
    "                    .subs(sigma, sigma__.args[0][0])\n",
    "                    .subs(E_e_lambda, E_e_lambda__),\n",
    "                sigma__.args[0][1]\n",
    "            ),\n",
    "            (\n",
    "                R_PI_\n",
    "                    .subs(sigma, sigma__.args[1][0])\n",
    "                    .subs(E_e_lambda, E_e_lambda__),\n",
    "                sigma__.args[1][1]\n",
    "            ),\n",
    "        )\n",
    "    )\n",
    ")\n",
    "sy.Eq(R_PI[i, j], R_PI__[i, j])"
   ]
  },
  {
   "cell_type": "code",
   "execution_count": 28,
   "metadata": {},
   "outputs": [
    {
     "name": "stdout",
     "output_type": "stream",
     "text": [
      "$\\displaystyle R^{{(PI)}}_{i, j} = \\begin{cases} \\int\\limits_{0}^{\\lambda_{0}} \\frac{15 \\sqrt{2} E_{e} \\lambda_{0} c^{3} h^{3} m_{i}^{0.5} \\left(- \\frac{\\sqrt{2} \\lambda^{2} \\lambda_{0} \\left(T k_{B}\\right)^{0.5} \\left(\\kappa_{0} \\left(2 \\lambda^{2} \\zeta_{1} \\left(T k_{B}\\right)^{1.0} + c^{2} m_{i}^{1.0} \\left(\\lambda - \\lambda_{0}\\right)^{2}\\right)^{3} - \\left(\\kappa_{1} \\left(2 \\lambda^{2} \\zeta_{1} \\left(T k_{B}\\right)^{1.0} + c^{2} m_{i}^{1.0} \\left(\\lambda - \\lambda_{0}\\right)^{2}\\right)^{2} - \\left(\\kappa_{2} \\cdot \\left(2 \\lambda^{2} \\zeta_{1} \\left(T k_{B}\\right)^{1.0} + c^{2} m_{i}^{1.0} \\left(\\lambda - \\lambda_{0}\\right)^{2}\\right) - \\kappa_{3} \\cdot \\left(2 \\lambda^{2} \\zeta_{0} \\left(T k_{B}\\right)^{1.0} - c^{2} m_{i}^{1.0} \\left(\\lambda - \\lambda_{0}\\right)^{2}\\right)\\right) \\left(2 \\lambda^{2} \\zeta_{0} \\left(T k_{B}\\right)^{1.0} - c^{2} m_{i}^{1.0} \\left(\\lambda - \\lambda_{0}\\right)^{2}\\right)\\right) \\left(2 \\lambda^{2} \\zeta_{0} \\left(T k_{B}\\right)^{1.0} - c^{2} m_{i}^{1.0} \\left(\\lambda - \\lambda_{0}\\right)^{2}\\right)\\right) \\left(2 \\chi \\lambda^{2} \\left(T k_{B}\\right)^{1.0} + c^{2} m_{i}^{1.0} \\left(\\lambda - \\lambda_{0}\\right)^{2}\\right) \\left(2 \\lambda^{2} \\zeta_{0} \\left(T k_{B}\\right)^{1.0} - c^{2} m_{i}^{1.0} \\left(\\lambda - \\lambda_{0}\\right)^{2}\\right) R^{{(SE)}}_{i, j}}{4 \\pi^{2} c^{2} m_{i}^{0.5} \\left(\\lambda - \\lambda_{0}\\right)^{2} \\cdot \\left(2 \\lambda^{2} \\left(T k_{B}\\right)^{1.0} + c^{2} m_{i}^{1.0} \\left(\\lambda - \\lambda_{0}\\right)^{2}\\right) \\left(2 \\lambda^{2} \\zeta_{1} \\left(T k_{B}\\right)^{1.0} + c^{2} m_{i}^{1.0} \\left(\\lambda - \\lambda_{0}\\right)^{2}\\right)^{4}} + \\frac{e^{- \\frac{c^{2} m_{i}^{1.0} \\left(- \\lambda + \\lambda_{0}\\right)^{2}}{2 \\lambda^{2} \\left(T k_{B}\\right)^{1.0}}}}{\\varepsilon}\\right) e^{- \\tau} g_{0, j}}{16 \\pi^{5} T^{4} \\lambda^{2} k_{B}^{4} \\left(T k_{B}\\right)^{0.5} \\left(e^{\\frac{c h}{T \\lambda k_{B}}} - 1\\right) g_{0, i}} R^{{(SE)}}\\, d\\lambda & \\text{for}\\: \\frac{- 2 \\lambda^{2} \\zeta_{0} \\left(T k_{B}\\right)^{1.0} + c^{2} m_{i}^{1.0} \\left(\\lambda - \\lambda_{0}\\right)^{2}}{2 \\lambda^{2} \\zeta_{1} \\left(T k_{B}\\right)^{1.0} + c^{2} m_{i}^{1.0} \\left(\\lambda - \\lambda_{0}\\right)^{2}} > 0 \\\\\\int\\limits_{0}^{\\lambda_{0}} \\frac{15 \\sqrt{2} E_{e} \\lambda_{0} c^{3} h^{3} m_{i}^{0.5} e^{- \\tau} e^{- \\frac{c^{2} m_{i}^{1.0} \\left(- \\lambda + \\lambda_{0}\\right)^{2}}{2 \\lambda^{2} \\left(T k_{B}\\right)^{1.0}}} g_{0, j}}{16 \\pi^{5} T^{4} \\lambda^{2} \\varepsilon k_{B}^{4} \\left(T k_{B}\\right)^{0.5} \\left(e^{\\frac{c h}{T \\lambda k_{B}}} - 1\\right) g_{0, i}} R^{{(SE)}}\\, d\\lambda & \\text{otherwise} \\end{cases}$\n"
     ]
    }
   ],
   "source": [
    "print(sy.Eq(R_PI[i, j], R_PI__[i, j])._repr_latex_())"
   ]
  },
  {
   "cell_type": "code",
   "execution_count": null,
   "metadata": {},
   "outputs": [],
   "source": []
  }
 ],
 "metadata": {
  "kernelspec": {
   "display_name": ".venv",
   "language": "python",
   "name": "python3"
  },
  "language_info": {
   "codemirror_mode": {
    "name": "ipython",
    "version": 3
   },
   "file_extension": ".py",
   "mimetype": "text/x-python",
   "name": "python",
   "nbconvert_exporter": "python",
   "pygments_lexer": "ipython3",
   "version": "3.10.10"
  },
  "orig_nbformat": 4
 },
 "nbformat": 4,
 "nbformat_minor": 2
}
