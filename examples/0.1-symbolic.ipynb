{
 "cells": [
  {
   "cell_type": "code",
   "execution_count": 1,
   "metadata": {},
   "outputs": [],
   "source": [
    "import sympy as sy"
   ]
  },
  {
   "cell_type": "code",
   "execution_count": 2,
   "metadata": {},
   "outputs": [],
   "source": [
    "interval = lambda a, b: range(a, b + 1)"
   ]
  },
  {
   "cell_type": "code",
   "execution_count": 3,
   "metadata": {},
   "outputs": [],
   "source": [
    "h = sy.Symbol('h')\n",
    "i = sy.Symbol('i')\n",
    "j = sy.Symbol('j')\n",
    "K = sy.Symbol('K')\n",
    "k = sy.Symbol('k')\n",
    "k_B = sy.Symbol('k_B')\n",
    "tilde_lambda = sy.Symbol('\\\\tilde\\\\lambda')\n",
    "m_e = sy.Symbol('m_e')\n",
    "N_e = sy.Symbol('N_e')\n",
    "q = sy.Symbol('q')\n",
    "S = sy.Symbol('S')\n",
    "s = sy.Symbol('s')\n",
    "T = sy.Symbol('T')\n",
    "T_e = sy.Symbol('T_e')\n",
    "z = sy.Symbol('z')\n",
    "\n",
    "E = sy.MatrixSymbol('E', 1, K)\n",
    "g = sy.MatrixSymbol('g', 1, K)\n",
    "I = sy.MatrixSymbol('I', 1, S)\n",
    "L = sy.MatrixSymbol('L', 1, S)\n",
    "N = sy.MatrixSymbol('N', 1, S)\n",
    "n = sy.MatrixSymbol('n', 1, K)\n",
    "R = sy.MatrixSymbol('R', 1, K)\n",
    "r = sy.MatrixSymbol('r', 1, S - 1)"
   ]
  },
  {
   "attachments": {},
   "cell_type": "markdown",
   "metadata": {},
   "source": [
    "# LTE"
   ]
  },
  {
   "cell_type": "code",
   "execution_count": 4,
   "metadata": {},
   "outputs": [
    {
     "data": {
      "text/latex": [
       "$\\displaystyle K^{{(s)}} = \\sum_{z=0}^{s - 1} L_{0, z}$"
      ],
      "text/plain": [
       "Eq(K^{{(s)}}, Sum(L[0, z], (z, 0, s - 1)))"
      ]
     },
     "execution_count": 4,
     "metadata": {},
     "output_type": "execute_result"
    }
   ],
   "source": [
    "K_ = sy.Sum(L[0, z], (z, 0, s - 1))\n",
    "sy.Eq(sy.Symbol('K^{{(s)}}'), K_)"
   ]
  },
  {
   "cell_type": "code",
   "execution_count": 5,
   "metadata": {},
   "outputs": [
    {
     "data": {
      "text/latex": [
       "$\\displaystyle \\tilde\\lambda = \\frac{\\sqrt{2} \\sqrt{\\frac{h^{2}}{T_{e} k_{B} m_{e}}}}{2 \\sqrt{\\pi}}$"
      ],
      "text/plain": [
       "Eq(\\tilde\\lambda, sqrt(2)*sqrt(h**2/(T_e*k_B*m_e))/(2*sqrt(pi)))"
      ]
     },
     "execution_count": 5,
     "metadata": {},
     "output_type": "execute_result"
    }
   ],
   "source": [
    "tilde_lambda_ = sy.sqrt(h**2 / (2 * sy.pi * m_e * k_B * T_e))\n",
    "sy.Eq(tilde_lambda, tilde_lambda_)"
   ]
  },
  {
   "cell_type": "code",
   "execution_count": 7,
   "metadata": {},
   "outputs": [
    {
     "data": {
      "text/latex": [
       "$\\displaystyle r^{(s)} = \\frac{N_{e} \\tilde\\lambda^{3} e^{\\frac{I_{0, s}}{T_{e} k_{B}}} \\sum_{i=0}^{L_{0, s} - 1} e^{- \\frac{E_{0, K + i}}{T k_{B}}} g_{0, K + i}}{2 \\sum_{i=0}^{L_{0, s + 1} - 1} e^{- \\frac{E_{0, K + i}}{T k_{B}}} g_{0, K + i}}$"
      ],
      "text/plain": [
       "Eq(r^{(s)}, N_e*\\tilde\\lambda**3*exp(I[0, s]/(T_e*k_B))*Sum(exp(-E[0, K + i]/(T*k_B))*g[0, K + i], (i, 0, L[0, s] - 1))/(2*Sum(exp(-E[0, K + i]/(T*k_B))*g[0, K + i], (i, 0, L[0, s + 1] - 1))))"
      ]
     },
     "execution_count": 7,
     "metadata": {},
     "output_type": "execute_result"
    }
   ],
   "source": [
    "r_ = (\n",
    "    + N_e\n",
    "    * sy.Sum(g[0, i + K] * sy.exp(-E[0, i + K] / (k_B * T)), (i, 0, L[0, s] - 1))\n",
    "    / sy.Sum(\n",
    "        g[0, i + K] * sy.exp(-E[0, i + K] / (k_B * T)),\n",
    "        (i, 0, L[0, s + 1] - 1)\n",
    "    )\n",
    "    * tilde_lambda**3 / 2\n",
    "    * sy.exp(I[0, s] / (k_B * T_e))\n",
    ")\n",
    "sy.Eq(sy.Symbol('r^{(s)}'), r_)"
   ]
  },
  {
   "cell_type": "code",
   "execution_count": null,
   "metadata": {},
   "outputs": [
    {
     "data": {
      "text/latex": [
       "$\\displaystyle N^{(s)} = \\frac{\\prod_{i=s}^{S - 2} r_{0, i}}{\\sum_{k=0}^{S - 1} \\prod_{i=k}^{S - 2} r_{0, i}}$"
      ],
      "text/plain": [
       "Eq(N^{(s)}, Product(r[0, i], (i, s, S - 2))/Sum(Product(r[0, i], (i, k, S - 2)), (k, 0, S - 1)))"
      ]
     },
     "execution_count": 9,
     "metadata": {},
     "output_type": "execute_result"
    }
   ],
   "source": [
    "N_ = (\n",
    "    + sy.Product(r[0, i], (i, s, S - 2))\n",
    "    / sy.Sum(sy.Product(r[0, i], (i, k, S - 2)), (k, 0, S - 1))\n",
    ")\n",
    "sy.Eq(sy.Symbol('N^{(s)}'), N_)"
   ]
  },
  {
   "cell_type": "code",
   "execution_count": null,
   "metadata": {},
   "outputs": [
    {
     "data": {
      "text/latex": [
       "$\\displaystyle n^{(s)}_i = \\frac{\\left(e^{- \\frac{E_{0, i + \\sum_{q=0}^{s - 2} L_{0, q}}}{T k_{B}}}\\right) N_{0, s} g_{0, i + \\sum_{q=0}^{s - 2} L_{0, q}}}{\\sum_{j=0}^{L_{0, s} - 1} \\left(e^{- \\frac{E_{0, j + \\sum_{q=0}^{s - 2} L_{0, q}}}{T k_{B}}}\\right) g_{0, j + \\sum_{q=0}^{s - 2} L_{0, q}}}$"
      ],
      "text/plain": [
       "Eq(n^{(s)}_i, exp(-E[0, i + Sum(L[0, q], (q, 0, s - 2))]/(T*k_B))*N[0, s]*g[0, i + Sum(L[0, q], (q, 0, s - 2))]/Sum(exp(-E[0, j + Sum(L[0, q], (q, 0, s - 2))]/(T*k_B))*g[0, j + Sum(L[0, q], (q, 0, s - 2))], (j, 0, L[0, s] - 1)))"
      ]
     },
     "execution_count": 10,
     "metadata": {},
     "output_type": "execute_result"
    }
   ],
   "source": [
    "n_ = (\n",
    "    + g[0, iota]\n",
    "    * sy.exp(-E[0, iota] / (k_B * T))\n",
    "    / sy.Sum(g[0, xi] * sy.exp(-E[0, xi] / (k_B * T)), (j, 0, L[0, s] - 1))\n",
    "    * N[0, s]\n",
    ").subs(iota, iota_).subs(xi, xi_)\n",
    "sy.Eq(sy.Symbol('n^{(s)}_i'), n_)"
   ]
  },
  {
   "attachments": {},
   "cell_type": "markdown",
   "metadata": {},
   "source": [
    "## Data"
   ]
  },
  {
   "cell_type": "code",
   "execution_count": null,
   "metadata": {},
   "outputs": [],
   "source": [
    "def lte(L_: list[int]):\n",
    "    S_ = len(L_)\n",
    "    r__ = sy.Matrix([r_.subs(s, s_) for s_ in interval(0, S_ - 2)]).subs(S, S_)\n",
    "    N__ = sy.Matrix([N_.subs(s, s_) for s_ in interval(0, S_ - 1)]).subs(S, S_)\n",
    "    n__ = sy.Matrix([\n",
    "        # n_.subs(N[0, s], N_).subs(L[0, s], L_[s_]).subs(s, s_).subs(i, i_)\n",
    "        n_.subs(s, s_).subs(i, i_)\n",
    "        for s_ in interval(0, S_ - 1)\n",
    "        for i_ in interval(0, L_[s_] - 1)\n",
    "    ])\n",
    "    return r__, N__, n__"
   ]
  },
  {
   "cell_type": "code",
   "execution_count": null,
   "metadata": {},
   "outputs": [],
   "source": [
    "r__, N__, n__ = lte([3, 1])"
   ]
  },
  {
   "cell_type": "code",
   "execution_count": null,
   "metadata": {},
   "outputs": [
    {
     "data": {
      "text/latex": [
       "$\\displaystyle \\left[\\begin{matrix}\\frac{N_{e} \\tilde\\lambda^{3} e^{\\frac{I_{0, 0}}{T_{e} k_{B}}} \\sum_{i=0}^{L_{0, 0} - 1} e^{- \\frac{E_{0, \\iota}}{T k_{B}}} g_{0, \\iota}}{2 \\sum_{i=0}^{L_{0, 1} - 1} e^{- \\frac{E_{0, \\iota}}{T k_{B}}} g_{0, \\iota}}\\end{matrix}\\right]$"
      ],
      "text/plain": [
       "Matrix([[N_e*\\tilde\\lambda**3*exp(I[0, 0]/(T_e*k_B))*Sum(exp(-E[0, \\iota]/(T*k_B))*g[0, \\iota], (i, 0, L[0, 0] - 1))/(2*Sum(exp(-E[0, \\iota]/(T*k_B))*g[0, \\iota], (i, 0, L[0, 1] - 1)))]])"
      ]
     },
     "execution_count": 13,
     "metadata": {},
     "output_type": "execute_result"
    }
   ],
   "source": [
    "r__"
   ]
  },
  {
   "cell_type": "code",
   "execution_count": null,
   "metadata": {},
   "outputs": [
    {
     "data": {
      "text/latex": [
       "$\\displaystyle \\left[\\begin{matrix}\\frac{\\prod_{i=0}^{0} r_{0, i}}{\\sum_{k=0}^{1} \\prod_{i=k}^{0} r_{0, i}}\\\\\\frac{\\prod_{i=1}^{0} r_{0, i}}{\\sum_{k=0}^{1} \\prod_{i=k}^{0} r_{0, i}}\\end{matrix}\\right]$"
      ],
      "text/plain": [
       "Matrix([\n",
       "[Product(r[0, i], (i, 0, 0))/Sum(Product(r[0, i], (i, k, 0)), (k, 0, 1))],\n",
       "[Product(r[0, i], (i, 1, 0))/Sum(Product(r[0, i], (i, k, 0)), (k, 0, 1))]])"
      ]
     },
     "execution_count": 14,
     "metadata": {},
     "output_type": "execute_result"
    }
   ],
   "source": [
    "N__"
   ]
  },
  {
   "cell_type": "code",
   "execution_count": null,
   "metadata": {},
   "outputs": [
    {
     "data": {
      "text/latex": [
       "$\\displaystyle 1$"
      ],
      "text/plain": [
       "1"
      ]
     },
     "execution_count": 15,
     "metadata": {},
     "output_type": "execute_result"
    }
   ],
   "source": [
    "sy.simplify(sum(N__))"
   ]
  },
  {
   "cell_type": "code",
   "execution_count": null,
   "metadata": {},
   "outputs": [
    {
     "data": {
      "text/latex": [
       "$\\displaystyle \\left[\\begin{matrix}\\frac{\\left(e^{- \\frac{E_{0, \\sum_{q=0}^{-2} L_{0, q}}}{T k_{B}}}\\right) N_{0, 0} g_{0, \\sum_{q=0}^{-2} L_{0, q}}}{\\sum_{j=0}^{L_{0, 0} - 1} \\left(e^{- \\frac{E_{0, j + \\sum_{q=0}^{-2} L_{0, q}}}{T k_{B}}}\\right) g_{0, j + \\sum_{q=0}^{-2} L_{0, q}}}\\\\\\frac{\\left(e^{- \\frac{E_{0, \\sum_{q=0}^{-2} L_{0, q} + 1}}{T k_{B}}}\\right) N_{0, 0} g_{0, \\sum_{q=0}^{-2} L_{0, q} + 1}}{\\sum_{j=0}^{L_{0, 0} - 1} \\left(e^{- \\frac{E_{0, j + \\sum_{q=0}^{-2} L_{0, q}}}{T k_{B}}}\\right) g_{0, j + \\sum_{q=0}^{-2} L_{0, q}}}\\\\\\frac{\\left(e^{- \\frac{E_{0, \\sum_{q=0}^{-2} L_{0, q} + 2}}{T k_{B}}}\\right) N_{0, 0} g_{0, \\sum_{q=0}^{-2} L_{0, q} + 2}}{\\sum_{j=0}^{L_{0, 0} - 1} \\left(e^{- \\frac{E_{0, j + \\sum_{q=0}^{-2} L_{0, q}}}{T k_{B}}}\\right) g_{0, j + \\sum_{q=0}^{-2} L_{0, q}}}\\\\\\frac{\\left(e^{- \\frac{E_{0, \\sum_{q=0}^{-1} L_{0, q}}}{T k_{B}}}\\right) N_{0, 1} g_{0, \\sum_{q=0}^{-1} L_{0, q}}}{\\sum_{j=0}^{L_{0, 1} - 1} \\left(e^{- \\frac{E_{0, j + \\sum_{q=0}^{-1} L_{0, q}}}{T k_{B}}}\\right) g_{0, j + \\sum_{q=0}^{-1} L_{0, q}}}\\end{matrix}\\right]$"
      ],
      "text/plain": [
       "Matrix([\n",
       "[        exp(-E[0, Sum(L[0, q], (q, 0, -2))]/(T*k_B))*N[0, 0]*g[0, Sum(L[0, q], (q, 0, -2))]/Sum(exp(-E[0, j + Sum(L[0, q], (q, 0, -2))]/(T*k_B))*g[0, j + Sum(L[0, q], (q, 0, -2))], (j, 0, L[0, 0] - 1))],\n",
       "[exp(-E[0, Sum(L[0, q], (q, 0, -2)) + 1]/(T*k_B))*N[0, 0]*g[0, Sum(L[0, q], (q, 0, -2)) + 1]/Sum(exp(-E[0, j + Sum(L[0, q], (q, 0, -2))]/(T*k_B))*g[0, j + Sum(L[0, q], (q, 0, -2))], (j, 0, L[0, 0] - 1))],\n",
       "[exp(-E[0, Sum(L[0, q], (q, 0, -2)) + 2]/(T*k_B))*N[0, 0]*g[0, Sum(L[0, q], (q, 0, -2)) + 2]/Sum(exp(-E[0, j + Sum(L[0, q], (q, 0, -2))]/(T*k_B))*g[0, j + Sum(L[0, q], (q, 0, -2))], (j, 0, L[0, 0] - 1))],\n",
       "[        exp(-E[0, Sum(L[0, q], (q, 0, -1))]/(T*k_B))*N[0, 1]*g[0, Sum(L[0, q], (q, 0, -1))]/Sum(exp(-E[0, j + Sum(L[0, q], (q, 0, -1))]/(T*k_B))*g[0, j + Sum(L[0, q], (q, 0, -1))], (j, 0, L[0, 1] - 1))]])"
      ]
     },
     "execution_count": 16,
     "metadata": {},
     "output_type": "execute_result"
    }
   ],
   "source": [
    "n__"
   ]
  },
  {
   "cell_type": "code",
   "execution_count": null,
   "metadata": {},
   "outputs": [
    {
     "data": {
      "text/latex": [
       "$\\displaystyle \\frac{e^{- \\frac{E_{0, - L_{0, -1}}}{T k_{B}}} N_{0, 0} g_{0, - L_{0, -1}}}{\\sum_{j=0}^{L_{0, 0} - 1} e^{- \\frac{E_{0, j - L_{0, -1}}}{T k_{B}}} g_{0, j - L_{0, -1}}} + \\frac{e^{- \\frac{E_{0, 2 - L_{0, -1}}}{T k_{B}}} N_{0, 0} g_{0, 2 - L_{0, -1}}}{\\sum_{j=0}^{L_{0, 0} - 1} e^{- \\frac{E_{0, j - L_{0, -1}}}{T k_{B}}} g_{0, j - L_{0, -1}}} + \\frac{e^{- \\frac{E_{0, 1 - L_{0, -1}}}{T k_{B}}} N_{0, 0} g_{0, 1 - L_{0, -1}}}{\\sum_{j=0}^{L_{0, 0} - 1} e^{- \\frac{E_{0, j - L_{0, -1}}}{T k_{B}}} g_{0, j - L_{0, -1}}} + \\frac{e^{- \\frac{E_{0, 0}}{T k_{B}}} N_{0, 1} g_{0, 0}}{\\sum_{j=0}^{L_{0, 1} - 1} e^{- \\frac{E_{0, j}}{T k_{B}}} g_{0, j}}$"
      ],
      "text/plain": [
       "exp(-E[0, -L[0, -1]]/(T*k_B))*N[0, 0]*g[0, -L[0, -1]]/Sum(exp(-E[0, j - L[0, -1]]/(T*k_B))*g[0, j - L[0, -1]], (j, 0, L[0, 0] - 1)) + exp(-E[0, 2 - L[0, -1]]/(T*k_B))*N[0, 0]*g[0, 2 - L[0, -1]]/Sum(exp(-E[0, j - L[0, -1]]/(T*k_B))*g[0, j - L[0, -1]], (j, 0, L[0, 0] - 1)) + exp(-E[0, 1 - L[0, -1]]/(T*k_B))*N[0, 0]*g[0, 1 - L[0, -1]]/Sum(exp(-E[0, j - L[0, -1]]/(T*k_B))*g[0, j - L[0, -1]], (j, 0, L[0, 0] - 1)) + exp(-E[0, 0]/(T*k_B))*N[0, 1]*g[0, 0]/Sum(exp(-E[0, j]/(T*k_B))*g[0, j], (j, 0, L[0, 1] - 1))"
      ]
     },
     "execution_count": 17,
     "metadata": {},
     "output_type": "execute_result"
    }
   ],
   "source": [
    "sy.simplify(sum(n__))"
   ]
  },
  {
   "attachments": {},
   "cell_type": "markdown",
   "metadata": {},
   "source": [
    "# NLTE"
   ]
  },
  {
   "cell_type": "code",
   "execution_count": 8,
   "metadata": {},
   "outputs": [],
   "source": [
    "def nlte(L_):\n",
    "    S_ = len(L_)\n",
    "    R_ = sy.zeros(\n",
    "        K_.subs(s, S_).doit().subs({L[0, q]: L_[q] for q in interval(0, S_ - 1)}),\n",
    "        K_.subs(s, S_).doit().subs({L[0, q]: L_[q] for q in interval(0, S_ - 1)})\n",
    "    )\n",
    "    for s_ in interval(0, S_ - 1):\n",
    "        for i_ in interval(0, L_[s_] - 1):\n",
    "            for j_ in interval(0, L_[s_] - 1):\n",
    "                R_[\n",
    "                    i_ + K_\n",
    "                        .subs(s, s_)\n",
    "                        .doit()\n",
    "                        .subs({L[0, q]: L_[q] for q in interval(0, s_ - 1)}),\n",
    "                    j_ + K_\n",
    "                        .subs(s, s_)\n",
    "                        .doit()\n",
    "                        .subs({L[0, q]: L_[q] for q in interval(0, s_ - 1)}),\n",
    "                ] = sy.Symbol(f'R^{{({s_})}}_{{{i_}, {j_}}}')\n",
    "    for s_ in interval(0, S_ - 2):\n",
    "        for i_ in interval(0, L_[s_] - 1):\n",
    "            R_[\n",
    "                i_ + K_\n",
    "                    .subs(s, s_)\n",
    "                    .doit()\n",
    "                    .subs({L[0, q]: L_[q] for q in interval(0, s_ - 1)}),\n",
    "                L_[s_] + K_\n",
    "                    .subs(s, s_)\n",
    "                    .doit()\n",
    "                    .subs({L[0, q]: L_[q] for q in interval(0, s_ - 1)})\n",
    "            ] = sy.Symbol(f'R^{{({s_})}}_{{{i_}, -}}')\n",
    "    for s_ in interval(0, S_ - 2):\n",
    "        for j_ in interval(0, L_[s_] - 1):\n",
    "            R_[\n",
    "                L_[s_] + K_\n",
    "                    .subs(s, s_)\n",
    "                    .doit()\n",
    "                    .subs({L[0, q]: L_[q] for q in interval(0, s_ - 1)}),\n",
    "                j_ + K_\n",
    "                    .subs(s, s_)\n",
    "                    .doit()\n",
    "                    .subs({L[0, q]: L_[q] for q in interval(0, s_ - 1)}),\n",
    "            ] = sy.Symbol(f'R^{{({s_})}}_{{+, {j_}}}')\n",
    "    return R_"
   ]
  },
  {
   "cell_type": "code",
   "execution_count": 9,
   "metadata": {},
   "outputs": [
    {
     "data": {
      "text/latex": [
       "$\\displaystyle \\left[\\begin{array}{ccccccccccccc}R^{(0)}_{0, 0} & R^{(0)}_{0, 1} & R^{(0)}_{0, 2} & R^{(0)}_{0, -} & 0 & 0 & 0 & 0 & 0 & 0 & 0 & 0 & 0\\\\R^{(0)}_{1, 0} & R^{(0)}_{1, 1} & R^{(0)}_{1, 2} & R^{(0)}_{1, -} & 0 & 0 & 0 & 0 & 0 & 0 & 0 & 0 & 0\\\\R^{(0)}_{2, 0} & R^{(0)}_{2, 1} & R^{(0)}_{2, 2} & R^{(0)}_{2, -} & 0 & 0 & 0 & 0 & 0 & 0 & 0 & 0 & 0\\\\R^{(0)}_{+, 0} & R^{(0)}_{+, 1} & R^{(0)}_{+, 2} & R^{(1)}_{0, 0} & R^{(1)}_{0, 1} & R^{(1)}_{0, -} & 0 & 0 & 0 & 0 & 0 & 0 & 0\\\\0 & 0 & 0 & R^{(1)}_{1, 0} & R^{(1)}_{1, 1} & R^{(1)}_{1, -} & 0 & 0 & 0 & 0 & 0 & 0 & 0\\\\0 & 0 & 0 & R^{(1)}_{+, 0} & R^{(1)}_{+, 1} & R^{(2)}_{0, 0} & R^{(2)}_{0, 1} & R^{(2)}_{0, 2} & R^{(2)}_{0, -} & 0 & 0 & 0 & 0\\\\0 & 0 & 0 & 0 & 0 & R^{(2)}_{1, 0} & R^{(2)}_{1, 1} & R^{(2)}_{1, 2} & R^{(2)}_{1, -} & 0 & 0 & 0 & 0\\\\0 & 0 & 0 & 0 & 0 & R^{(2)}_{2, 0} & R^{(2)}_{2, 1} & R^{(2)}_{2, 2} & R^{(2)}_{2, -} & 0 & 0 & 0 & 0\\\\0 & 0 & 0 & 0 & 0 & R^{(2)}_{+, 0} & R^{(2)}_{+, 1} & R^{(2)}_{+, 2} & R^{(3)}_{0, 0} & R^{(3)}_{0, 1} & R^{(3)}_{0, 2} & R^{(3)}_{0, 3} & R^{(3)}_{0, -}\\\\0 & 0 & 0 & 0 & 0 & 0 & 0 & 0 & R^{(3)}_{1, 0} & R^{(3)}_{1, 1} & R^{(3)}_{1, 2} & R^{(3)}_{1, 3} & R^{(3)}_{1, -}\\\\0 & 0 & 0 & 0 & 0 & 0 & 0 & 0 & R^{(3)}_{2, 0} & R^{(3)}_{2, 1} & R^{(3)}_{2, 2} & R^{(3)}_{2, 3} & R^{(3)}_{2, -}\\\\0 & 0 & 0 & 0 & 0 & 0 & 0 & 0 & R^{(3)}_{3, 0} & R^{(3)}_{3, 1} & R^{(3)}_{3, 2} & R^{(3)}_{3, 3} & R^{(3)}_{3, -}\\\\0 & 0 & 0 & 0 & 0 & 0 & 0 & 0 & R^{(3)}_{+, 0} & R^{(3)}_{+, 1} & R^{(3)}_{+, 2} & R^{(3)}_{+, 3} & R^{(4)}_{0, 0}\\end{array}\\right]$"
      ],
      "text/plain": [
       "Matrix([\n",
       "[R^{(0)}_{0, 0}, R^{(0)}_{0, 1}, R^{(0)}_{0, 2}, R^{(0)}_{0, -},              0,              0,              0,              0,              0,              0,              0,              0,              0],\n",
       "[R^{(0)}_{1, 0}, R^{(0)}_{1, 1}, R^{(0)}_{1, 2}, R^{(0)}_{1, -},              0,              0,              0,              0,              0,              0,              0,              0,              0],\n",
       "[R^{(0)}_{2, 0}, R^{(0)}_{2, 1}, R^{(0)}_{2, 2}, R^{(0)}_{2, -},              0,              0,              0,              0,              0,              0,              0,              0,              0],\n",
       "[R^{(0)}_{+, 0}, R^{(0)}_{+, 1}, R^{(0)}_{+, 2}, R^{(1)}_{0, 0}, R^{(1)}_{0, 1}, R^{(1)}_{0, -},              0,              0,              0,              0,              0,              0,              0],\n",
       "[             0,              0,              0, R^{(1)}_{1, 0}, R^{(1)}_{1, 1}, R^{(1)}_{1, -},              0,              0,              0,              0,              0,              0,              0],\n",
       "[             0,              0,              0, R^{(1)}_{+, 0}, R^{(1)}_{+, 1}, R^{(2)}_{0, 0}, R^{(2)}_{0, 1}, R^{(2)}_{0, 2}, R^{(2)}_{0, -},              0,              0,              0,              0],\n",
       "[             0,              0,              0,              0,              0, R^{(2)}_{1, 0}, R^{(2)}_{1, 1}, R^{(2)}_{1, 2}, R^{(2)}_{1, -},              0,              0,              0,              0],\n",
       "[             0,              0,              0,              0,              0, R^{(2)}_{2, 0}, R^{(2)}_{2, 1}, R^{(2)}_{2, 2}, R^{(2)}_{2, -},              0,              0,              0,              0],\n",
       "[             0,              0,              0,              0,              0, R^{(2)}_{+, 0}, R^{(2)}_{+, 1}, R^{(2)}_{+, 2}, R^{(3)}_{0, 0}, R^{(3)}_{0, 1}, R^{(3)}_{0, 2}, R^{(3)}_{0, 3}, R^{(3)}_{0, -}],\n",
       "[             0,              0,              0,              0,              0,              0,              0,              0, R^{(3)}_{1, 0}, R^{(3)}_{1, 1}, R^{(3)}_{1, 2}, R^{(3)}_{1, 3}, R^{(3)}_{1, -}],\n",
       "[             0,              0,              0,              0,              0,              0,              0,              0, R^{(3)}_{2, 0}, R^{(3)}_{2, 1}, R^{(3)}_{2, 2}, R^{(3)}_{2, 3}, R^{(3)}_{2, -}],\n",
       "[             0,              0,              0,              0,              0,              0,              0,              0, R^{(3)}_{3, 0}, R^{(3)}_{3, 1}, R^{(3)}_{3, 2}, R^{(3)}_{3, 3}, R^{(3)}_{3, -}],\n",
       "[             0,              0,              0,              0,              0,              0,              0,              0, R^{(3)}_{+, 0}, R^{(3)}_{+, 1}, R^{(3)}_{+, 2}, R^{(3)}_{+, 3}, R^{(4)}_{0, 0}]])"
      ]
     },
     "execution_count": 9,
     "metadata": {},
     "output_type": "execute_result"
    }
   ],
   "source": [
    "nlte([3, 2, 3, 4, 1])"
   ]
  },
  {
   "cell_type": "code",
   "execution_count": null,
   "metadata": {},
   "outputs": [],
   "source": []
  }
 ],
 "metadata": {
  "kernelspec": {
   "display_name": ".venv",
   "language": "python",
   "name": "python3"
  },
  "language_info": {
   "codemirror_mode": {
    "name": "ipython",
    "version": 3
   },
   "file_extension": ".py",
   "mimetype": "text/x-python",
   "name": "python",
   "nbconvert_exporter": "python",
   "pygments_lexer": "ipython3",
   "version": "3.10.10"
  },
  "orig_nbformat": 4
 },
 "nbformat": 4,
 "nbformat_minor": 2
}
